{
 "cells": [
  {
   "cell_type": "code",
   "execution_count": 1,
   "id": "4898a65c",
   "metadata": {},
   "outputs": [],
   "source": [
    "import numpy as np\n",
    "import pandas as pd\n",
    "import matplotlib.pyplot as plt \n",
    "import seaborn as sns"
   ]
  },
  {
   "cell_type": "code",
   "execution_count": 71,
   "id": "6902077d",
   "metadata": {},
   "outputs": [],
   "source": [
    "import sklearn\n",
    "from sklearn.linear_model import LinearRegression\n",
    "from sklearn.model_selection import train_test_split\n",
    "from sklearn.metrics import mean_squared_error\n",
    "from sklearn.preprocessing import StandardScaler\n",
    "\n",
    "import statsmodels.api as sm\n",
    "from statsmodels.stats.outliers_influence import variance_inflation_factor"
   ]
  },
  {
   "cell_type": "code",
   "execution_count": 2,
   "id": "fb3cdff5",
   "metadata": {},
   "outputs": [],
   "source": [
    "df = pd.read_csv(\"C:\\\\Users\\\\cheta\\\\Downloads\\\\cars24-car-price-clean.csv\")"
   ]
  },
  {
   "cell_type": "code",
   "execution_count": 3,
   "id": "7b948d41",
   "metadata": {},
   "outputs": [
    {
     "data": {
      "text/html": [
       "<div>\n",
       "<style scoped>\n",
       "    .dataframe tbody tr th:only-of-type {\n",
       "        vertical-align: middle;\n",
       "    }\n",
       "\n",
       "    .dataframe tbody tr th {\n",
       "        vertical-align: top;\n",
       "    }\n",
       "\n",
       "    .dataframe thead th {\n",
       "        text-align: right;\n",
       "    }\n",
       "</style>\n",
       "<table border=\"1\" class=\"dataframe\">\n",
       "  <thead>\n",
       "    <tr style=\"text-align: right;\">\n",
       "      <th></th>\n",
       "      <th>selling_price</th>\n",
       "      <th>year</th>\n",
       "      <th>km_driven</th>\n",
       "      <th>mileage</th>\n",
       "      <th>engine</th>\n",
       "      <th>max_power</th>\n",
       "      <th>age</th>\n",
       "      <th>make</th>\n",
       "      <th>model</th>\n",
       "      <th>Individual</th>\n",
       "      <th>Trustmark Dealer</th>\n",
       "      <th>Diesel</th>\n",
       "      <th>Electric</th>\n",
       "      <th>LPG</th>\n",
       "      <th>Petrol</th>\n",
       "      <th>Manual</th>\n",
       "      <th>5</th>\n",
       "      <th>&gt;5</th>\n",
       "    </tr>\n",
       "  </thead>\n",
       "  <tbody>\n",
       "    <tr>\n",
       "      <th>0</th>\n",
       "      <td>-1.111046</td>\n",
       "      <td>-0.801317</td>\n",
       "      <td>1.195828</td>\n",
       "      <td>0.045745</td>\n",
       "      <td>-1.310754</td>\n",
       "      <td>-1.157780</td>\n",
       "      <td>0.801317</td>\n",
       "      <td>-0.433854</td>\n",
       "      <td>-1.125683</td>\n",
       "      <td>1.248892</td>\n",
       "      <td>-0.098382</td>\n",
       "      <td>-0.985275</td>\n",
       "      <td>-0.020095</td>\n",
       "      <td>-0.056917</td>\n",
       "      <td>1.024622</td>\n",
       "      <td>0.495818</td>\n",
       "      <td>0.444503</td>\n",
       "      <td>-0.424728</td>\n",
       "    </tr>\n",
       "    <tr>\n",
       "      <th>1</th>\n",
       "      <td>-0.223944</td>\n",
       "      <td>0.450030</td>\n",
       "      <td>-0.737872</td>\n",
       "      <td>-0.140402</td>\n",
       "      <td>-0.537456</td>\n",
       "      <td>-0.360203</td>\n",
       "      <td>-0.450030</td>\n",
       "      <td>-0.327501</td>\n",
       "      <td>-0.333227</td>\n",
       "      <td>1.248892</td>\n",
       "      <td>-0.098382</td>\n",
       "      <td>-0.985275</td>\n",
       "      <td>-0.020095</td>\n",
       "      <td>-0.056917</td>\n",
       "      <td>1.024622</td>\n",
       "      <td>0.495818</td>\n",
       "      <td>0.444503</td>\n",
       "      <td>-0.424728</td>\n",
       "    </tr>\n",
       "    <tr>\n",
       "      <th>2</th>\n",
       "      <td>-0.915058</td>\n",
       "      <td>-1.426990</td>\n",
       "      <td>0.035608</td>\n",
       "      <td>-0.582501</td>\n",
       "      <td>-0.537456</td>\n",
       "      <td>-0.404885</td>\n",
       "      <td>1.426990</td>\n",
       "      <td>-0.327501</td>\n",
       "      <td>-0.789807</td>\n",
       "      <td>1.248892</td>\n",
       "      <td>-0.098382</td>\n",
       "      <td>-0.985275</td>\n",
       "      <td>-0.020095</td>\n",
       "      <td>-0.056917</td>\n",
       "      <td>1.024622</td>\n",
       "      <td>0.495818</td>\n",
       "      <td>0.444503</td>\n",
       "      <td>-0.424728</td>\n",
       "    </tr>\n",
       "    <tr>\n",
       "      <th>3</th>\n",
       "      <td>-0.892365</td>\n",
       "      <td>-0.801317</td>\n",
       "      <td>-0.409143</td>\n",
       "      <td>0.329620</td>\n",
       "      <td>-0.921213</td>\n",
       "      <td>-0.693085</td>\n",
       "      <td>0.801317</td>\n",
       "      <td>-0.433854</td>\n",
       "      <td>-0.905265</td>\n",
       "      <td>1.248892</td>\n",
       "      <td>-0.098382</td>\n",
       "      <td>-0.985275</td>\n",
       "      <td>-0.020095</td>\n",
       "      <td>-0.056917</td>\n",
       "      <td>1.024622</td>\n",
       "      <td>0.495818</td>\n",
       "      <td>0.444503</td>\n",
       "      <td>-0.424728</td>\n",
       "    </tr>\n",
       "    <tr>\n",
       "      <th>4</th>\n",
       "      <td>-0.182683</td>\n",
       "      <td>0.137194</td>\n",
       "      <td>-0.544502</td>\n",
       "      <td>0.760085</td>\n",
       "      <td>0.042999</td>\n",
       "      <td>0.010435</td>\n",
       "      <td>-0.137194</td>\n",
       "      <td>-0.246579</td>\n",
       "      <td>-0.013096</td>\n",
       "      <td>-0.800710</td>\n",
       "      <td>-0.098382</td>\n",
       "      <td>1.014945</td>\n",
       "      <td>-0.020095</td>\n",
       "      <td>-0.056917</td>\n",
       "      <td>-0.975970</td>\n",
       "      <td>0.495818</td>\n",
       "      <td>0.444503</td>\n",
       "      <td>-0.424728</td>\n",
       "    </tr>\n",
       "  </tbody>\n",
       "</table>\n",
       "</div>"
      ],
      "text/plain": [
       "   selling_price      year  km_driven   mileage    engine  max_power  \\\n",
       "0      -1.111046 -0.801317   1.195828  0.045745 -1.310754  -1.157780   \n",
       "1      -0.223944  0.450030  -0.737872 -0.140402 -0.537456  -0.360203   \n",
       "2      -0.915058 -1.426990   0.035608 -0.582501 -0.537456  -0.404885   \n",
       "3      -0.892365 -0.801317  -0.409143  0.329620 -0.921213  -0.693085   \n",
       "4      -0.182683  0.137194  -0.544502  0.760085  0.042999   0.010435   \n",
       "\n",
       "        age      make     model  Individual  Trustmark Dealer    Diesel  \\\n",
       "0  0.801317 -0.433854 -1.125683    1.248892         -0.098382 -0.985275   \n",
       "1 -0.450030 -0.327501 -0.333227    1.248892         -0.098382 -0.985275   \n",
       "2  1.426990 -0.327501 -0.789807    1.248892         -0.098382 -0.985275   \n",
       "3  0.801317 -0.433854 -0.905265    1.248892         -0.098382 -0.985275   \n",
       "4 -0.137194 -0.246579 -0.013096   -0.800710         -0.098382  1.014945   \n",
       "\n",
       "   Electric       LPG    Petrol    Manual         5        >5  \n",
       "0 -0.020095 -0.056917  1.024622  0.495818  0.444503 -0.424728  \n",
       "1 -0.020095 -0.056917  1.024622  0.495818  0.444503 -0.424728  \n",
       "2 -0.020095 -0.056917  1.024622  0.495818  0.444503 -0.424728  \n",
       "3 -0.020095 -0.056917  1.024622  0.495818  0.444503 -0.424728  \n",
       "4 -0.020095 -0.056917 -0.975970  0.495818  0.444503 -0.424728  "
      ]
     },
     "execution_count": 3,
     "metadata": {},
     "output_type": "execute_result"
    }
   ],
   "source": [
    "df.head()"
   ]
  },
  {
   "cell_type": "code",
   "execution_count": 24,
   "id": "d6b2e1b9",
   "metadata": {},
   "outputs": [],
   "source": [
    "X = df.model.values\n",
    "y = df.selling_price.values"
   ]
  },
  {
   "cell_type": "code",
   "execution_count": 30,
   "id": "2d3002df",
   "metadata": {},
   "outputs": [],
   "source": [
    "x = X.reshape(X.size,1)\n",
    "y = y.reshape(y.size,1)"
   ]
  },
  {
   "cell_type": "markdown",
   "id": "f54827fb",
   "metadata": {},
   "source": [
    "## Linear Regression using single feature in the model"
   ]
  },
  {
   "cell_type": "code",
   "execution_count": 32,
   "id": "b94b2bfd",
   "metadata": {},
   "outputs": [
    {
     "data": {
      "text/plain": [
       "LinearRegression()"
      ]
     },
     "execution_count": 32,
     "metadata": {},
     "output_type": "execute_result"
    }
   ],
   "source": [
    "linear = LinearRegression()\n",
    "linear.fit(x,y)"
   ]
  },
  {
   "cell_type": "code",
   "execution_count": 33,
   "id": "4e37beea",
   "metadata": {},
   "outputs": [
    {
     "data": {
      "text/plain": [
       "array([-1.18731936e-16])"
      ]
     },
     "execution_count": 33,
     "metadata": {},
     "output_type": "execute_result"
    }
   ],
   "source": [
    "linear.intercept_"
   ]
  },
  {
   "cell_type": "code",
   "execution_count": 34,
   "id": "64b6abe4",
   "metadata": {},
   "outputs": [
    {
     "data": {
      "text/plain": [
       "array([[0.96505112]])"
      ]
     },
     "execution_count": 34,
     "metadata": {},
     "output_type": "execute_result"
    }
   ],
   "source": [
    "linear.coef_"
   ]
  },
  {
   "cell_type": "code",
   "execution_count": 36,
   "id": "77fb29c6",
   "metadata": {},
   "outputs": [
    {
     "data": {
      "text/plain": [
       "array([[-1.08634131],\n",
       "       [-0.32158118],\n",
       "       [-0.76220457],\n",
       "       ...,\n",
       "       [-0.43300319],\n",
       "       [ 0.31656303],\n",
       "       [ 1.00028896]])"
      ]
     },
     "execution_count": 36,
     "metadata": {},
     "output_type": "execute_result"
    }
   ],
   "source": [
    "y_hat = linear.predict(x)\n",
    "y_hat"
   ]
  },
  {
   "cell_type": "code",
   "execution_count": 37,
   "id": "116ff547",
   "metadata": {},
   "outputs": [
    {
     "data": {
      "image/png": "[encoded data removed]",
      "text/plain": [
       "<Figure size 720x576 with 1 Axes>"
      ]
     },
     "metadata": {
      "needs_background": "light"
     },
     "output_type": "display_data"
    }
   ],
   "source": [
    "plt.figure(figsize=(10,8))\n",
    "plt.scatter(x,y,label='data')\n",
    "plt.scatter(x,y_hat,color='orange',label='predection')\n",
    "plt.legend()\n",
    "plt.show()"
   ]
  },
  {
   "cell_type": "code",
   "execution_count": 38,
   "id": "088b0e60",
   "metadata": {},
   "outputs": [
    {
     "data": {
      "text/plain": [
       "0.9313236629576508"
      ]
     },
     "execution_count": 38,
     "metadata": {},
     "output_type": "execute_result"
    }
   ],
   "source": [
    "linear.score(x,y)"
   ]
  },
  {
   "cell_type": "markdown",
   "id": "c5cfa4fd",
   "metadata": {},
   "source": [
    "## Linear Regression using multiple features in the model "
   ]
  },
  {
   "cell_type": "markdown",
   "id": "547f9ea9",
   "metadata": {},
   "source": [
    "### using train and test data to train and predect the model "
   ]
  },
  {
   "cell_type": "code",
   "execution_count": 42,
   "id": "8883ca53",
   "metadata": {},
   "outputs": [],
   "source": [
    "X = df.drop(['selling_price'],axis=1)\n",
    "y = df['selling_price']"
   ]
  },
  {
   "cell_type": "code",
   "execution_count": 43,
   "id": "efe9e217",
   "metadata": {},
   "outputs": [],
   "source": [
    "X_train,x_test,y_train,y_test = train_test_split(X,y,test_size=0.2,random_state=1)"
   ]
  },
  {
   "cell_type": "code",
   "execution_count": 44,
   "id": "7b0b36dd",
   "metadata": {},
   "outputs": [],
   "source": [
    "linear2 = LinearRegression()"
   ]
  },
  {
   "cell_type": "code",
   "execution_count": 45,
   "id": "73b69fdb",
   "metadata": {},
   "outputs": [
    {
     "data": {
      "text/plain": [
       "LinearRegression()"
      ]
     },
     "execution_count": 45,
     "metadata": {},
     "output_type": "execute_result"
    }
   ],
   "source": [
    "linear2.fit(X_train,y_train)"
   ]
  },
  {
   "cell_type": "code",
   "execution_count": 47,
   "id": "eb7fac15",
   "metadata": {},
   "outputs": [
    {
     "data": {
      "text/plain": [
       "-0.0011364789195510007"
      ]
     },
     "execution_count": 47,
     "metadata": {},
     "output_type": "execute_result"
    }
   ],
   "source": [
    "linear2.intercept_"
   ]
  },
  {
   "cell_type": "code",
   "execution_count": 48,
   "id": "d4b90d9d",
   "metadata": {},
   "outputs": [
    {
     "data": {
      "text/plain": [
       "array([ 0.0660192 , -0.01688005, -0.04933801,  0.03041406,  0.0281798 ,\n",
       "       -0.0660192 ,  0.06052994,  0.78953689, -0.01757718, -0.00291796,\n",
       "        0.01413375,  0.01295761,  0.00200056, -0.02355585, -0.01320977,\n",
       "       -0.0286089 , -0.03604981])"
      ]
     },
     "execution_count": 48,
     "metadata": {},
     "output_type": "execute_result"
    }
   ],
   "source": [
    "linear2.coef_"
   ]
  },
  {
   "cell_type": "code",
   "execution_count": 50,
   "id": "fa7c0147",
   "metadata": {},
   "outputs": [
    {
     "data": {
      "text/plain": [
       "0.9409659371358082"
      ]
     },
     "execution_count": 50,
     "metadata": {},
     "output_type": "execute_result"
    }
   ],
   "source": [
    "linear2.score(X_train,y_train)"
   ]
  },
  {
   "cell_type": "code",
   "execution_count": 52,
   "id": "6c112bb3",
   "metadata": {},
   "outputs": [],
   "source": [
    "y_hat = linear2.predict(x_test)"
   ]
  },
  {
   "cell_type": "code",
   "execution_count": 53,
   "id": "052c7820",
   "metadata": {},
   "outputs": [
    {
     "data": {
      "text/plain": [
       "0.9468672408104278"
      ]
     },
     "execution_count": 53,
     "metadata": {},
     "output_type": "execute_result"
    }
   ],
   "source": [
    "linear2.score(x_test,y_test)"
   ]
  },
  {
   "cell_type": "code",
   "execution_count": 54,
   "id": "680343f2",
   "metadata": {},
   "outputs": [],
   "source": [
    "error = y_test - y_hat"
   ]
  },
  {
   "cell_type": "code",
   "execution_count": 58,
   "id": "1d4e1180",
   "metadata": {},
   "outputs": [
    {
     "data": {
      "image/png": "[encoded data removed]",
      "text/plain": [
       "<Figure size 360x360 with 1 Axes>"
      ]
     },
     "metadata": {
      "needs_background": "light"
     },
     "output_type": "display_data"
    }
   ],
   "source": [
    "sns.displot(error,kind='kde')\n",
    "plt.show()"
   ]
  },
  {
   "cell_type": "code",
   "execution_count": 59,
   "id": "6a761ffa",
   "metadata": {},
   "outputs": [
    {
     "data": {
      "text/plain": [
       "0.005682394597754612"
      ]
     },
     "execution_count": 59,
     "metadata": {},
     "output_type": "execute_result"
    }
   ],
   "source": [
    "np.mean(error)"
   ]
  },
  {
   "cell_type": "code",
   "execution_count": 61,
   "id": "1461830b",
   "metadata": {},
   "outputs": [
    {
     "data": {
      "text/plain": [
       "0.05418133487669937"
      ]
     },
     "execution_count": 61,
     "metadata": {},
     "output_type": "execute_result"
    }
   ],
   "source": [
    "mean_squared_error(y_test,y_hat)"
   ]
  },
  {
   "cell_type": "code",
   "execution_count": 64,
   "id": "f3c68394",
   "metadata": {},
   "outputs": [],
   "source": [
    "X_sm = sm.add_constant(X)"
   ]
  },
  {
   "cell_type": "code",
   "execution_count": 65,
   "id": "c74f1013",
   "metadata": {},
   "outputs": [
    {
     "data": {
      "text/html": [
       "<div>\n",
       "<style scoped>\n",
       "    .dataframe tbody tr th:only-of-type {\n",
       "        vertical-align: middle;\n",
       "    }\n",
       "\n",
       "    .dataframe tbody tr th {\n",
       "        vertical-align: top;\n",
       "    }\n",
       "\n",
       "    .dataframe thead th {\n",
       "        text-align: right;\n",
       "    }\n",
       "</style>\n",
       "<table border=\"1\" class=\"dataframe\">\n",
       "  <thead>\n",
       "    <tr style=\"text-align: right;\">\n",
       "      <th></th>\n",
       "      <th>const</th>\n",
       "      <th>year</th>\n",
       "      <th>km_driven</th>\n",
       "      <th>mileage</th>\n",
       "      <th>engine</th>\n",
       "      <th>max_power</th>\n",
       "      <th>age</th>\n",
       "      <th>make</th>\n",
       "      <th>model</th>\n",
       "      <th>Individual</th>\n",
       "      <th>Trustmark Dealer</th>\n",
       "      <th>Diesel</th>\n",
       "      <th>Electric</th>\n",
       "      <th>LPG</th>\n",
       "      <th>Petrol</th>\n",
       "      <th>Manual</th>\n",
       "      <th>5</th>\n",
       "      <th>&gt;5</th>\n",
       "    </tr>\n",
       "  </thead>\n",
       "  <tbody>\n",
       "    <tr>\n",
       "      <th>0</th>\n",
       "      <td>1.0</td>\n",
       "      <td>-0.801317</td>\n",
       "      <td>1.195828</td>\n",
       "      <td>0.045745</td>\n",
       "      <td>-1.310754</td>\n",
       "      <td>-1.157780</td>\n",
       "      <td>0.801317</td>\n",
       "      <td>-0.433854</td>\n",
       "      <td>-1.125683</td>\n",
       "      <td>1.248892</td>\n",
       "      <td>-0.098382</td>\n",
       "      <td>-0.985275</td>\n",
       "      <td>-0.020095</td>\n",
       "      <td>-0.056917</td>\n",
       "      <td>1.024622</td>\n",
       "      <td>0.495818</td>\n",
       "      <td>0.444503</td>\n",
       "      <td>-0.424728</td>\n",
       "    </tr>\n",
       "    <tr>\n",
       "      <th>1</th>\n",
       "      <td>1.0</td>\n",
       "      <td>0.450030</td>\n",
       "      <td>-0.737872</td>\n",
       "      <td>-0.140402</td>\n",
       "      <td>-0.537456</td>\n",
       "      <td>-0.360203</td>\n",
       "      <td>-0.450030</td>\n",
       "      <td>-0.327501</td>\n",
       "      <td>-0.333227</td>\n",
       "      <td>1.248892</td>\n",
       "      <td>-0.098382</td>\n",
       "      <td>-0.985275</td>\n",
       "      <td>-0.020095</td>\n",
       "      <td>-0.056917</td>\n",
       "      <td>1.024622</td>\n",
       "      <td>0.495818</td>\n",
       "      <td>0.444503</td>\n",
       "      <td>-0.424728</td>\n",
       "    </tr>\n",
       "    <tr>\n",
       "      <th>2</th>\n",
       "      <td>1.0</td>\n",
       "      <td>-1.426990</td>\n",
       "      <td>0.035608</td>\n",
       "      <td>-0.582501</td>\n",
       "      <td>-0.537456</td>\n",
       "      <td>-0.404885</td>\n",
       "      <td>1.426990</td>\n",
       "      <td>-0.327501</td>\n",
       "      <td>-0.789807</td>\n",
       "      <td>1.248892</td>\n",
       "      <td>-0.098382</td>\n",
       "      <td>-0.985275</td>\n",
       "      <td>-0.020095</td>\n",
       "      <td>-0.056917</td>\n",
       "      <td>1.024622</td>\n",
       "      <td>0.495818</td>\n",
       "      <td>0.444503</td>\n",
       "      <td>-0.424728</td>\n",
       "    </tr>\n",
       "    <tr>\n",
       "      <th>3</th>\n",
       "      <td>1.0</td>\n",
       "      <td>-0.801317</td>\n",
       "      <td>-0.409143</td>\n",
       "      <td>0.329620</td>\n",
       "      <td>-0.921213</td>\n",
       "      <td>-0.693085</td>\n",
       "      <td>0.801317</td>\n",
       "      <td>-0.433854</td>\n",
       "      <td>-0.905265</td>\n",
       "      <td>1.248892</td>\n",
       "      <td>-0.098382</td>\n",
       "      <td>-0.985275</td>\n",
       "      <td>-0.020095</td>\n",
       "      <td>-0.056917</td>\n",
       "      <td>1.024622</td>\n",
       "      <td>0.495818</td>\n",
       "      <td>0.444503</td>\n",
       "      <td>-0.424728</td>\n",
       "    </tr>\n",
       "  </tbody>\n",
       "</table>\n",
       "</div>"
      ],
      "text/plain": [
       "   const      year  km_driven   mileage    engine  max_power       age  \\\n",
       "0    1.0 -0.801317   1.195828  0.045745 -1.310754  -1.157780  0.801317   \n",
       "1    1.0  0.450030  -0.737872 -0.140402 -0.537456  -0.360203 -0.450030   \n",
       "2    1.0 -1.426990   0.035608 -0.582501 -0.537456  -0.404885  1.426990   \n",
       "3    1.0 -0.801317  -0.409143  0.329620 -0.921213  -0.693085  0.801317   \n",
       "\n",
       "       make     model  Individual  Trustmark Dealer    Diesel  Electric  \\\n",
       "0 -0.433854 -1.125683    1.248892         -0.098382 -0.985275 -0.020095   \n",
       "1 -0.327501 -0.333227    1.248892         -0.098382 -0.985275 -0.020095   \n",
       "2 -0.327501 -0.789807    1.248892         -0.098382 -0.985275 -0.020095   \n",
       "3 -0.433854 -0.905265    1.248892         -0.098382 -0.985275 -0.020095   \n",
       "\n",
       "        LPG    Petrol    Manual         5        >5  \n",
       "0 -0.056917  1.024622  0.495818  0.444503 -0.424728  \n",
       "1 -0.056917  1.024622  0.495818  0.444503 -0.424728  \n",
       "2 -0.056917  1.024622  0.495818  0.444503 -0.424728  \n",
       "3 -0.056917  1.024622  0.495818  0.444503 -0.424728  "
      ]
     },
     "execution_count": 65,
     "metadata": {},
     "output_type": "execute_result"
    }
   ],
   "source": [
    "X_sm.head(4)"
   ]
  },
  {
   "cell_type": "code",
   "execution_count": 68,
   "id": "7b3a2511",
   "metadata": {},
   "outputs": [],
   "source": [
    "sm_model = sm.OLS(y,X_sm).fit()"
   ]
  },
  {
   "cell_type": "code",
   "execution_count": 69,
   "id": "f765e5b3",
   "metadata": {},
   "outputs": [
    {
     "name": "stdout",
     "output_type": "stream",
     "text": [
      "                            OLS Regression Results                            \n",
      "==============================================================================\n",
      "Dep. Variable:          selling_price   R-squared:                       0.942\n",
      "Model:                            OLS   Adj. R-squared:                  0.942\n",
      "Method:                 Least Squares   F-statistic:                 2.017e+04\n",
      "Date:                Fri, 09 Dec 2022   Prob (F-statistic):               0.00\n",
      "Time:                        21:37:35   Log-Likelihood:                 125.84\n",
      "No. Observations:               19820   AIC:                            -217.7\n",
      "Df Residuals:                   19803   BIC:                            -83.48\n",
      "Df Model:                          16                                         \n",
      "Covariance Type:            nonrobust                                         \n",
      "====================================================================================\n",
      "                       coef    std err          t      P>|t|      [0.025      0.975]\n",
      "------------------------------------------------------------------------------------\n",
      "const             -4.51e-17      0.002  -2.64e-14      1.000      -0.003       0.003\n",
      "year                 0.0650      0.001     54.830      0.000       0.063       0.067\n",
      "km_driven           -0.0182      0.002     -9.609      0.000      -0.022      -0.015\n",
      "mileage             -0.0487      0.003    -16.056      0.000      -0.055      -0.043\n",
      "engine               0.0314      0.004      7.334      0.000       0.023       0.040\n",
      "max_power            0.0274      0.004      7.106      0.000       0.020       0.035\n",
      "age                 -0.0650      0.001    -54.830      0.000      -0.067      -0.063\n",
      "make                 0.0608      0.003     19.874      0.000       0.055       0.067\n",
      "model                0.7942      0.004    192.975      0.000       0.786       0.802\n",
      "Individual          -0.0170      0.002     -9.509      0.000      -0.020      -0.013\n",
      "Trustmark Dealer    -0.0035      0.002     -2.013      0.044      -0.007   -9.19e-05\n",
      "Diesel               0.0141      0.007      1.997      0.046       0.000       0.028\n",
      "Electric             0.0128      0.002      6.901      0.000       0.009       0.016\n",
      "LPG                  0.0028      0.002      1.489      0.136      -0.001       0.007\n",
      "Petrol              -0.0226      0.007     -3.119      0.002      -0.037      -0.008\n",
      "Manual              -0.0129      0.002     -5.646      0.000      -0.017      -0.008\n",
      "5                   -0.0246      0.006     -4.150      0.000      -0.036      -0.013\n",
      ">5                  -0.0327      0.006     -5.237      0.000      -0.045      -0.020\n",
      "==============================================================================\n",
      "Omnibus:                     4569.412   Durbin-Watson:                   1.915\n",
      "Prob(Omnibus):                  0.000   Jarque-Bera (JB):           180275.540\n",
      "Skew:                           0.334   Prob(JB):                         0.00\n",
      "Kurtosis:                      17.760   Cond. No.                     5.62e+15\n",
      "==============================================================================\n",
      "\n",
      "Notes:\n",
      "[1] Standard Errors assume that the covariance matrix of the errors is correctly specified.\n",
      "[2] The smallest eigenvalue is 2.86e-27. This might indicate that there are\n",
      "strong multicollinearity problems or that the design matrix is singular.\n"
     ]
    }
   ],
   "source": [
    "print(sm_model.summary())"
   ]
  },
  {
   "cell_type": "code",
   "execution_count": 83,
   "id": "04a3bc69",
   "metadata": {},
   "outputs": [
    {
     "data": {
      "text/plain": [
       "17"
      ]
     },
     "execution_count": 83,
     "metadata": {},
     "output_type": "execute_result"
    }
   ],
   "source": [
    "X.shape[1]"
   ]
  },
  {
   "cell_type": "markdown",
   "id": "740ff2f1",
   "metadata": {},
   "source": [
    "## Using VIF(Variance Inflation Factor) for the features selection"
   ]
  },
  {
   "cell_type": "code",
   "execution_count": 78,
   "id": "a225ce0f",
   "metadata": {},
   "outputs": [
    {
     "name": "stderr",
     "output_type": "stream",
     "text": [
      "C:\\Users\\cheta\\anaconda3\\lib\\site-packages\\statsmodels\\stats\\outliers_influence.py:195: RuntimeWarning: divide by zero encountered in double_scalars\n",
      "  vif = 1. / (1. - r_squared_i)\n"
     ]
    }
   ],
   "source": [
    "vif = pd.DataFrame()\n",
    "X_t = X\n",
    "vif['Features'] = X_t.columns\n",
    "vif['VIF'] = [variance_inflation_factor(X_t.values,i) for i in range(X_t.shape[1])]"
   ]
  },
  {
   "cell_type": "code",
   "execution_count": 88,
   "id": "b6a3170e",
   "metadata": {},
   "outputs": [
    {
     "data": {
      "text/html": [
       "<div>\n",
       "<style scoped>\n",
       "    .dataframe tbody tr th:only-of-type {\n",
       "        vertical-align: middle;\n",
       "    }\n",
       "\n",
       "    .dataframe tbody tr th {\n",
       "        vertical-align: top;\n",
       "    }\n",
       "\n",
       "    .dataframe thead th {\n",
       "        text-align: right;\n",
       "    }\n",
       "</style>\n",
       "<table border=\"1\" class=\"dataframe\">\n",
       "  <thead>\n",
       "    <tr style=\"text-align: right;\">\n",
       "      <th></th>\n",
       "      <th>Features</th>\n",
       "      <th>VIF</th>\n",
       "    </tr>\n",
       "  </thead>\n",
       "  <tbody>\n",
       "    <tr>\n",
       "      <th>0</th>\n",
       "      <td>year</td>\n",
       "      <td>inf</td>\n",
       "    </tr>\n",
       "    <tr>\n",
       "      <th>1</th>\n",
       "      <td>km_driven</td>\n",
       "      <td>1.233320</td>\n",
       "    </tr>\n",
       "    <tr>\n",
       "      <th>2</th>\n",
       "      <td>mileage</td>\n",
       "      <td>3.149380</td>\n",
       "    </tr>\n",
       "    <tr>\n",
       "      <th>3</th>\n",
       "      <td>engine</td>\n",
       "      <td>6.272148</td>\n",
       "    </tr>\n",
       "    <tr>\n",
       "      <th>4</th>\n",
       "      <td>max_power</td>\n",
       "      <td>5.079379</td>\n",
       "    </tr>\n",
       "    <tr>\n",
       "      <th>5</th>\n",
       "      <td>age</td>\n",
       "      <td>inf</td>\n",
       "    </tr>\n",
       "    <tr>\n",
       "      <th>6</th>\n",
       "      <td>make</td>\n",
       "      <td>3.204460</td>\n",
       "    </tr>\n",
       "    <tr>\n",
       "      <th>7</th>\n",
       "      <td>model</td>\n",
       "      <td>5.801345</td>\n",
       "    </tr>\n",
       "    <tr>\n",
       "      <th>8</th>\n",
       "      <td>Individual</td>\n",
       "      <td>1.088775</td>\n",
       "    </tr>\n",
       "    <tr>\n",
       "      <th>9</th>\n",
       "      <td>Trustmark Dealer</td>\n",
       "      <td>1.020599</td>\n",
       "    </tr>\n",
       "    <tr>\n",
       "      <th>10</th>\n",
       "      <td>Diesel</td>\n",
       "      <td>17.033579</td>\n",
       "    </tr>\n",
       "    <tr>\n",
       "      <th>11</th>\n",
       "      <td>Electric</td>\n",
       "      <td>1.169779</td>\n",
       "    </tr>\n",
       "    <tr>\n",
       "      <th>12</th>\n",
       "      <td>LPG</td>\n",
       "      <td>1.237699</td>\n",
       "    </tr>\n",
       "    <tr>\n",
       "      <th>13</th>\n",
       "      <td>Petrol</td>\n",
       "      <td>17.949208</td>\n",
       "    </tr>\n",
       "    <tr>\n",
       "      <th>14</th>\n",
       "      <td>Manual</td>\n",
       "      <td>1.797808</td>\n",
       "    </tr>\n",
       "    <tr>\n",
       "      <th>15</th>\n",
       "      <td>5</td>\n",
       "      <td>12.077742</td>\n",
       "    </tr>\n",
       "    <tr>\n",
       "      <th>16</th>\n",
       "      <td>&gt;5</td>\n",
       "      <td>13.316028</td>\n",
       "    </tr>\n",
       "  </tbody>\n",
       "</table>\n",
       "</div>"
      ],
      "text/plain": [
       "            Features        VIF\n",
       "0               year        inf\n",
       "1          km_driven   1.233320\n",
       "2            mileage   3.149380\n",
       "3             engine   6.272148\n",
       "4          max_power   5.079379\n",
       "5                age        inf\n",
       "6               make   3.204460\n",
       "7              model   5.801345\n",
       "8         Individual   1.088775\n",
       "9   Trustmark Dealer   1.020599\n",
       "10            Diesel  17.033579\n",
       "11          Electric   1.169779\n",
       "12               LPG   1.237699\n",
       "13            Petrol  17.949208\n",
       "14            Manual   1.797808\n",
       "15                 5  12.077742\n",
       "16                >5  13.316028"
      ]
     },
     "execution_count": 88,
     "metadata": {},
     "output_type": "execute_result"
    }
   ],
   "source": [
    "vif"
   ]
  },
  {
   "cell_type": "code",
   "execution_count": 85,
   "id": "4780b81a",
   "metadata": {},
   "outputs": [
    {
     "data": {
      "text/plain": [
       "Index(['year', 'km_driven', 'mileage', 'engine', 'max_power', 'age', 'make',\n",
       "       'model', 'Individual', 'Trustmark Dealer', 'Diesel', 'Electric', 'LPG',\n",
       "       'Petrol', 'Manual', '5', '>5'],\n",
       "      dtype='object')"
      ]
     },
     "execution_count": 85,
     "metadata": {},
     "output_type": "execute_result"
    }
   ],
   "source": [
    "X.columns"
   ]
  },
  {
   "cell_type": "code",
   "execution_count": 89,
   "id": "9d99a766",
   "metadata": {},
   "outputs": [],
   "source": [
    "cols2 = ['engine','model','max_power','make','mileage','Manual','Diesel','Petrol','LPG','km_driven','Electric','Individual','Trustmark Dealer','5']"
   ]
  },
  {
   "cell_type": "code",
   "execution_count": 90,
   "id": "23c64e27",
   "metadata": {},
   "outputs": [
    {
     "name": "stdout",
     "output_type": "stream",
     "text": [
      "                            OLS Regression Results                            \n",
      "==============================================================================\n",
      "Dep. Variable:          selling_price   R-squared:                       0.933\n",
      "Model:                            OLS   Adj. R-squared:                  0.933\n",
      "Method:                 Least Squares   F-statistic:                 1.983e+04\n",
      "Date:                Sat, 10 Dec 2022   Prob (F-statistic):               0.00\n",
      "Time:                        10:39:49   Log-Likelihood:                -1276.9\n",
      "No. Observations:               19820   AIC:                             2584.\n",
      "Df Residuals:                   19805   BIC:                             2702.\n",
      "Df Model:                          14                                         \n",
      "Covariance Type:            nonrobust                                         \n",
      "====================================================================================\n",
      "                       coef    std err          t      P>|t|      [0.025      0.975]\n",
      "------------------------------------------------------------------------------------\n",
      "const             -4.51e-17      0.002  -2.46e-14      1.000      -0.004       0.004\n",
      "engine               0.0218      0.005      4.785      0.000       0.013       0.031\n",
      "model                0.9155      0.004    247.707      0.000       0.908       0.923\n",
      "max_power            0.0205      0.004      5.047      0.000       0.013       0.028\n",
      "make                 0.0062      0.003      2.028      0.043       0.000       0.012\n",
      "mileage              0.0048      0.003      1.592      0.111      -0.001       0.011\n",
      "Manual              -0.0085      0.002     -3.454      0.001      -0.013      -0.004\n",
      "Diesel               0.0100      0.008      1.326      0.185      -0.005       0.025\n",
      "Petrol              -0.0015      0.008     -0.195      0.846      -0.017       0.014\n",
      "LPG                  0.0004      0.002      0.177      0.860      -0.004       0.004\n",
      "km_driven           -0.0398      0.002    -19.961      0.000      -0.044      -0.036\n",
      "Electric         -8.969e-05      0.002     -0.046      0.964      -0.004       0.004\n",
      "Individual          -0.0116      0.002     -6.066      0.000      -0.015      -0.008\n",
      "Trustmark Dealer     0.0016      0.002      0.853      0.394      -0.002       0.005\n",
      "5                   -0.0074      0.002     -3.061      0.002      -0.012      -0.003\n",
      "==============================================================================\n",
      "Omnibus:                     5170.318   Durbin-Watson:                   1.929\n",
      "Prob(Omnibus):                  0.000   Jarque-Bera (JB):           293605.384\n",
      "Skew:                           0.388   Prob(JB):                         0.00\n",
      "Kurtosis:                      21.839   Cond. No.                         12.2\n",
      "==============================================================================\n",
      "\n",
      "Notes:\n",
      "[1] Standard Errors assume that the covariance matrix of the errors is correctly specified.\n"
     ]
    }
   ],
   "source": [
    "X2 = X[cols2]\n",
    "X2_sm = sm.add_constant(X2)\n",
    "sm_model = sm.OLS(y,X2_sm).fit()\n",
    "print(sm_model.summary())"
   ]
  },
  {
   "cell_type": "markdown",
   "id": "b75748d9",
   "metadata": {},
   "source": [
    "### Taking the variables with higher vif values have higher p-value (eg:  Diesel,petrol,LPG,Electric, Trustmark Dealer)"
   ]
  },
  {
   "cell_type": "code",
   "execution_count": 94,
   "id": "8a5a5bef",
   "metadata": {},
   "outputs": [
    {
     "data": {
      "image/png": "[encoded data removed]",
      "text/plain": [
       "<Figure size 432x288 with 1 Axes>"
      ]
     },
     "metadata": {
      "needs_background": "light"
     },
     "output_type": "display_data"
    }
   ],
   "source": [
    "sns.scatterplot(x=y_test, y=error)\n",
    "plt.xlabel(\"y_test\")\n",
    "plt.ylabel(\"residuals (errors [y_test - y_hat])\")\n",
    "plt.show()"
   ]
  },
  {
   "cell_type": "markdown",
   "id": "aa4aabc9",
   "metadata": {},
   "source": [
    "### The above distribution says that it follows Homo Scedarticity "
   ]
  },
  {
   "cell_type": "code",
   "execution_count": null,
   "id": "50f71f98",
   "metadata": {},
   "outputs": [],
   "source": []
  }
 ],
 "metadata": {
  "kernelspec": {
   "display_name": "Python 3 (ipykernel)",
   "language": "python",
   "name": "python3"
  },
  "language_info": {
   "codemirror_mode": {
    "name": "ipython",
    "version": 3
   },
   "file_extension": ".py",
   "mimetype": "text/x-python",
   "name": "python",
   "nbconvert_exporter": "python",
   "pygments_lexer": "ipython3",
   "version": "3.9.12"
  }
 },
 "nbformat": 4,
 "nbformat_minor": 5
}
